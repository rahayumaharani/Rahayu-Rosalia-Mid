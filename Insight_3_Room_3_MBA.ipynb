{
  "nbformat": 4,
  "nbformat_minor": 0,
  "metadata": {
    "colab": {
      "provenance": [],
      "collapsed_sections": [
        "fwO2ox36dZHF",
        "XgbCGVWWfF2n",
        "B8mKLfOrgc2j",
        "IKR4peUfgcmo"
      ],
      "include_colab_link": true
    },
    "kernelspec": {
      "name": "python3",
      "display_name": "Python 3"
    },
    "language_info": {
      "name": "python"
    }
  },
  "cells": [
    {
      "cell_type": "markdown",
      "metadata": {
        "id": "view-in-github",
        "colab_type": "text"
      },
      "source": [
        "<a href=\"https://colab.research.google.com/github/rahayumaharani/Rahayu-Rosalia-Mid/blob/main/Insight_3_Room_3_MBA.ipynb\" target=\"_parent\"><img src=\"https://colab.research.google.com/assets/colab-badge.svg\" alt=\"Open In Colab\"/></a>"
      ]
    },
    {
      "cell_type": "markdown",
      "source": [
        "# **Bakery Market Basket Analysis**"
      ],
      "metadata": {
        "id": "RO6yz03Im1i2"
      }
    },
    {
      "cell_type": "markdown",
      "source": [
        "## **1. Import Library**\n",
        "Pertama-tama mengimpor library yang akan kita gunakan untuk analisis eksplorasi data dan visualisasi data.\n"
      ],
      "metadata": {
        "id": "LWqZv3hwm_-7"
      }
    },
    {
      "cell_type": "code",
      "execution_count": 1,
      "metadata": {
        "id": "UuwanqKPYdPs"
      },
      "outputs": [],
      "source": [
        "import pandas as pd\n",
        "import numpy as np\n",
        "import seaborn as sns\n",
        "import matplotlib.pyplot as plt\n",
        "%matplotlib inline"
      ]
    },
    {
      "cell_type": "code",
      "source": [
        "df = pd.read_csv('BreadBasket_DMS.csv')\n",
        "df"
      ],
      "metadata": {
        "colab": {
          "base_uri": "https://localhost:8080/",
          "height": 423
        },
        "id": "CndlRKOFYrkU",
        "outputId": "4a89a849-f3be-4d81-8381-160c8bae0235"
      },
      "execution_count": 2,
      "outputs": [
        {
          "output_type": "execute_result",
          "data": {
            "text/plain": [
              "             Date      Time  Transaction           Item\n",
              "0      2016-10-30  09:58:11            1          Bread\n",
              "1      2016-10-30  10:05:34            2   Scandinavian\n",
              "2      2016-10-30  10:05:34            2   Scandinavian\n",
              "3      2016-10-30  10:07:57            3  Hot chocolate\n",
              "4      2016-10-30  10:07:57            3            Jam\n",
              "...           ...       ...          ...            ...\n",
              "21288  2017-04-09  14:32:58         9682         Coffee\n",
              "21289  2017-04-09  14:32:58         9682            Tea\n",
              "21290  2017-04-09  14:57:06         9683         Coffee\n",
              "21291  2017-04-09  14:57:06         9683         Pastry\n",
              "21292  2017-04-09  15:04:24         9684      Smoothies\n",
              "\n",
              "[21293 rows x 4 columns]"
            ],
            "text/html": [
              "\n",
              "  <div id=\"df-d5571d57-2feb-4cea-84c1-3cbce7303bc5\">\n",
              "    <div class=\"colab-df-container\">\n",
              "      <div>\n",
              "<style scoped>\n",
              "    .dataframe tbody tr th:only-of-type {\n",
              "        vertical-align: middle;\n",
              "    }\n",
              "\n",
              "    .dataframe tbody tr th {\n",
              "        vertical-align: top;\n",
              "    }\n",
              "\n",
              "    .dataframe thead th {\n",
              "        text-align: right;\n",
              "    }\n",
              "</style>\n",
              "<table border=\"1\" class=\"dataframe\">\n",
              "  <thead>\n",
              "    <tr style=\"text-align: right;\">\n",
              "      <th></th>\n",
              "      <th>Date</th>\n",
              "      <th>Time</th>\n",
              "      <th>Transaction</th>\n",
              "      <th>Item</th>\n",
              "    </tr>\n",
              "  </thead>\n",
              "  <tbody>\n",
              "    <tr>\n",
              "      <th>0</th>\n",
              "      <td>2016-10-30</td>\n",
              "      <td>09:58:11</td>\n",
              "      <td>1</td>\n",
              "      <td>Bread</td>\n",
              "    </tr>\n",
              "    <tr>\n",
              "      <th>1</th>\n",
              "      <td>2016-10-30</td>\n",
              "      <td>10:05:34</td>\n",
              "      <td>2</td>\n",
              "      <td>Scandinavian</td>\n",
              "    </tr>\n",
              "    <tr>\n",
              "      <th>2</th>\n",
              "      <td>2016-10-30</td>\n",
              "      <td>10:05:34</td>\n",
              "      <td>2</td>\n",
              "      <td>Scandinavian</td>\n",
              "    </tr>\n",
              "    <tr>\n",
              "      <th>3</th>\n",
              "      <td>2016-10-30</td>\n",
              "      <td>10:07:57</td>\n",
              "      <td>3</td>\n",
              "      <td>Hot chocolate</td>\n",
              "    </tr>\n",
              "    <tr>\n",
              "      <th>4</th>\n",
              "      <td>2016-10-30</td>\n",
              "      <td>10:07:57</td>\n",
              "      <td>3</td>\n",
              "      <td>Jam</td>\n",
              "    </tr>\n",
              "    <tr>\n",
              "      <th>...</th>\n",
              "      <td>...</td>\n",
              "      <td>...</td>\n",
              "      <td>...</td>\n",
              "      <td>...</td>\n",
              "    </tr>\n",
              "    <tr>\n",
              "      <th>21288</th>\n",
              "      <td>2017-04-09</td>\n",
              "      <td>14:32:58</td>\n",
              "      <td>9682</td>\n",
              "      <td>Coffee</td>\n",
              "    </tr>\n",
              "    <tr>\n",
              "      <th>21289</th>\n",
              "      <td>2017-04-09</td>\n",
              "      <td>14:32:58</td>\n",
              "      <td>9682</td>\n",
              "      <td>Tea</td>\n",
              "    </tr>\n",
              "    <tr>\n",
              "      <th>21290</th>\n",
              "      <td>2017-04-09</td>\n",
              "      <td>14:57:06</td>\n",
              "      <td>9683</td>\n",
              "      <td>Coffee</td>\n",
              "    </tr>\n",
              "    <tr>\n",
              "      <th>21291</th>\n",
              "      <td>2017-04-09</td>\n",
              "      <td>14:57:06</td>\n",
              "      <td>9683</td>\n",
              "      <td>Pastry</td>\n",
              "    </tr>\n",
              "    <tr>\n",
              "      <th>21292</th>\n",
              "      <td>2017-04-09</td>\n",
              "      <td>15:04:24</td>\n",
              "      <td>9684</td>\n",
              "      <td>Smoothies</td>\n",
              "    </tr>\n",
              "  </tbody>\n",
              "</table>\n",
              "<p>21293 rows × 4 columns</p>\n",
              "</div>\n",
              "      <button class=\"colab-df-convert\" onclick=\"convertToInteractive('df-d5571d57-2feb-4cea-84c1-3cbce7303bc5')\"\n",
              "              title=\"Convert this dataframe to an interactive table.\"\n",
              "              style=\"display:none;\">\n",
              "        \n",
              "  <svg xmlns=\"http://www.w3.org/2000/svg\" height=\"24px\"viewBox=\"0 0 24 24\"\n",
              "       width=\"24px\">\n",
              "    <path d=\"M0 0h24v24H0V0z\" fill=\"none\"/>\n",
              "    <path d=\"M18.56 5.44l.94 2.06.94-2.06 2.06-.94-2.06-.94-.94-2.06-.94 2.06-2.06.94zm-11 1L8.5 8.5l.94-2.06 2.06-.94-2.06-.94L8.5 2.5l-.94 2.06-2.06.94zm10 10l.94 2.06.94-2.06 2.06-.94-2.06-.94-.94-2.06-.94 2.06-2.06.94z\"/><path d=\"M17.41 7.96l-1.37-1.37c-.4-.4-.92-.59-1.43-.59-.52 0-1.04.2-1.43.59L10.3 9.45l-7.72 7.72c-.78.78-.78 2.05 0 2.83L4 21.41c.39.39.9.59 1.41.59.51 0 1.02-.2 1.41-.59l7.78-7.78 2.81-2.81c.8-.78.8-2.07 0-2.86zM5.41 20L4 18.59l7.72-7.72 1.47 1.35L5.41 20z\"/>\n",
              "  </svg>\n",
              "      </button>\n",
              "      \n",
              "  <style>\n",
              "    .colab-df-container {\n",
              "      display:flex;\n",
              "      flex-wrap:wrap;\n",
              "      gap: 12px;\n",
              "    }\n",
              "\n",
              "    .colab-df-convert {\n",
              "      background-color: #E8F0FE;\n",
              "      border: none;\n",
              "      border-radius: 50%;\n",
              "      cursor: pointer;\n",
              "      display: none;\n",
              "      fill: #1967D2;\n",
              "      height: 32px;\n",
              "      padding: 0 0 0 0;\n",
              "      width: 32px;\n",
              "    }\n",
              "\n",
              "    .colab-df-convert:hover {\n",
              "      background-color: #E2EBFA;\n",
              "      box-shadow: 0px 1px 2px rgba(60, 64, 67, 0.3), 0px 1px 3px 1px rgba(60, 64, 67, 0.15);\n",
              "      fill: #174EA6;\n",
              "    }\n",
              "\n",
              "    [theme=dark] .colab-df-convert {\n",
              "      background-color: #3B4455;\n",
              "      fill: #D2E3FC;\n",
              "    }\n",
              "\n",
              "    [theme=dark] .colab-df-convert:hover {\n",
              "      background-color: #434B5C;\n",
              "      box-shadow: 0px 1px 3px 1px rgba(0, 0, 0, 0.15);\n",
              "      filter: drop-shadow(0px 1px 2px rgba(0, 0, 0, 0.3));\n",
              "      fill: #FFFFFF;\n",
              "    }\n",
              "  </style>\n",
              "\n",
              "      <script>\n",
              "        const buttonEl =\n",
              "          document.querySelector('#df-d5571d57-2feb-4cea-84c1-3cbce7303bc5 button.colab-df-convert');\n",
              "        buttonEl.style.display =\n",
              "          google.colab.kernel.accessAllowed ? 'block' : 'none';\n",
              "\n",
              "        async function convertToInteractive(key) {\n",
              "          const element = document.querySelector('#df-d5571d57-2feb-4cea-84c1-3cbce7303bc5');\n",
              "          const dataTable =\n",
              "            await google.colab.kernel.invokeFunction('convertToInteractive',\n",
              "                                                     [key], {});\n",
              "          if (!dataTable) return;\n",
              "\n",
              "          const docLinkHtml = 'Like what you see? Visit the ' +\n",
              "            '<a target=\"_blank\" href=https://colab.research.google.com/notebooks/data_table.ipynb>data table notebook</a>'\n",
              "            + ' to learn more about interactive tables.';\n",
              "          element.innerHTML = '';\n",
              "          dataTable['output_type'] = 'display_data';\n",
              "          await google.colab.output.renderOutput(dataTable, element);\n",
              "          const docLink = document.createElement('div');\n",
              "          docLink.innerHTML = docLinkHtml;\n",
              "          element.appendChild(docLink);\n",
              "        }\n",
              "      </script>\n",
              "    </div>\n",
              "  </div>\n",
              "  "
            ]
          },
          "metadata": {},
          "execution_count": 2
        }
      ]
    },
    {
      "cell_type": "code",
      "source": [
        "# cek tipe data dari setiap kolom\n",
        "print('Dataset Information: \\n')\n",
        "print(df.info())"
      ],
      "metadata": {
        "colab": {
          "base_uri": "https://localhost:8080/"
        },
        "id": "EnD2MM1oYrge",
        "outputId": "ccd0a367-f831-4486-a06b-047ecf1faeb9"
      },
      "execution_count": 3,
      "outputs": [
        {
          "output_type": "stream",
          "name": "stdout",
          "text": [
            "Dataset Information: \n",
            "\n",
            "<class 'pandas.core.frame.DataFrame'>\n",
            "RangeIndex: 21293 entries, 0 to 21292\n",
            "Data columns (total 4 columns):\n",
            " #   Column       Non-Null Count  Dtype \n",
            "---  ------       --------------  ----- \n",
            " 0   Date         21293 non-null  object\n",
            " 1   Time         21293 non-null  object\n",
            " 2   Transaction  21293 non-null  int64 \n",
            " 3   Item         21293 non-null  object\n",
            "dtypes: int64(1), object(3)\n",
            "memory usage: 665.5+ KB\n",
            "None\n"
          ]
        }
      ]
    },
    {
      "cell_type": "code",
      "source": [
        "# mencetak 10 data pertama\n",
        "print('First Ten Rows of the DataFrame: \\n')\n",
        "print(df.head(20))"
      ],
      "metadata": {
        "colab": {
          "base_uri": "https://localhost:8080/"
        },
        "id": "ZUvFxXVYYrdn",
        "outputId": "d2d14075-befb-490f-d671-82380bc5349a"
      },
      "execution_count": 22,
      "outputs": [
        {
          "output_type": "stream",
          "name": "stdout",
          "text": [
            "First Ten Rows of the DataFrame: \n",
            "\n",
            "          Date      Time  Transaction           Item  Year Month Day\n",
            "0   2016-10-30  09:58:11            1          Bread  2016    10  30\n",
            "1   2016-10-30  10:05:34            2   Scandinavian  2016    10  30\n",
            "2   2016-10-30  10:05:34            2   Scandinavian  2016    10  30\n",
            "3   2016-10-30  10:07:57            3  Hot chocolate  2016    10  30\n",
            "4   2016-10-30  10:07:57            3            Jam  2016    10  30\n",
            "5   2016-10-30  10:07:57            3        Cookies  2016    10  30\n",
            "6   2016-10-30  10:08:41            4         Muffin  2016    10  30\n",
            "7   2016-10-30  10:13:03            5         Coffee  2016    10  30\n",
            "8   2016-10-30  10:13:03            5         Pastry  2016    10  30\n",
            "9   2016-10-30  10:13:03            5          Bread  2016    10  30\n",
            "10  2016-10-30  10:16:55            6      Medialuna  2016    10  30\n",
            "11  2016-10-30  10:16:55            6         Pastry  2016    10  30\n",
            "12  2016-10-30  10:16:55            6         Muffin  2016    10  30\n",
            "13  2016-10-30  10:19:12            7      Medialuna  2016    10  30\n",
            "14  2016-10-30  10:19:12            7         Pastry  2016    10  30\n",
            "15  2016-10-30  10:19:12            7         Coffee  2016    10  30\n",
            "16  2016-10-30  10:19:12            7            Tea  2016    10  30\n",
            "17  2016-10-30  10:20:51            8         Pastry  2016    10  30\n",
            "18  2016-10-30  10:20:51            8          Bread  2016    10  30\n",
            "19  2016-10-30  10:21:59            9          Bread  2016    10  30\n"
          ]
        }
      ]
    },
    {
      "cell_type": "code",
      "source": [
        "print('Unique Items: ', df['Item'].nunique())"
      ],
      "metadata": {
        "colab": {
          "base_uri": "https://localhost:8080/"
        },
        "id": "SlSaoS7YJvDu",
        "outputId": "53489163-6c0e-4ecd-b306-7cd48f90f714"
      },
      "execution_count": 23,
      "outputs": [
        {
          "output_type": "stream",
          "name": "stdout",
          "text": [
            "Unique Items:  94\n"
          ]
        }
      ]
    },
    {
      "cell_type": "code",
      "source": [
        "# Cek missing value dan zeros\n",
        "print(df.isnull().sum().sort_values(ascending=False))"
      ],
      "metadata": {
        "colab": {
          "base_uri": "https://localhost:8080/"
        },
        "id": "Xv_U40nzasgl",
        "outputId": "70274067-5b57-4233-9b44-08ad3dc69ea9"
      },
      "execution_count": 74,
      "outputs": [
        {
          "output_type": "stream",
          "name": "stdout",
          "text": [
            "Date           0\n",
            "Time           0\n",
            "Transaction    0\n",
            "Item           0\n",
            "Year           0\n",
            "Month          0\n",
            "Day            0\n",
            "dtype: int64\n"
          ]
        }
      ]
    },
    {
      "cell_type": "code",
      "source": [
        "# cek nilai \"NONE\" pada kolom Item\n",
        "print(df[df['Item']=='NONE'])"
      ],
      "metadata": {
        "colab": {
          "base_uri": "https://localhost:8080/"
        },
        "id": "rPSVH7n1asdz",
        "outputId": "bd7d01a6-c22f-43a1-c41c-b3f2e9df2935"
      },
      "execution_count": 26,
      "outputs": [
        {
          "output_type": "stream",
          "name": "stdout",
          "text": [
            "Empty DataFrame\n",
            "Columns: [Date, Time, Transaction, Item, Year, Month, Day]\n",
            "Index: []\n"
          ]
        }
      ]
    },
    {
      "cell_type": "code",
      "source": [
        "# menghapus baris dengan nilai Item = None\n",
        "df.drop(df[df['Item']=='NONE'].index, inplace=True)"
      ],
      "metadata": {
        "id": "gPWL1Sq-asbF"
      },
      "execution_count": 27,
      "outputs": []
    },
    {
      "cell_type": "code",
      "source": [
        "# cek perubahan yang terjadi\n",
        "print(df.info())"
      ],
      "metadata": {
        "colab": {
          "base_uri": "https://localhost:8080/"
        },
        "id": "zLG1ebstasYd",
        "outputId": "1fc49cf5-e2e7-4112-c300-e7a827cb8324"
      },
      "execution_count": 28,
      "outputs": [
        {
          "output_type": "stream",
          "name": "stdout",
          "text": [
            "<class 'pandas.core.frame.DataFrame'>\n",
            "Int64Index: 20507 entries, 0 to 21292\n",
            "Data columns (total 7 columns):\n",
            " #   Column       Non-Null Count  Dtype \n",
            "---  ------       --------------  ----- \n",
            " 0   Date         20507 non-null  object\n",
            " 1   Time         20507 non-null  object\n",
            " 2   Transaction  20507 non-null  int64 \n",
            " 3   Item         20507 non-null  object\n",
            " 4   Year         20507 non-null  object\n",
            " 5   Month        20507 non-null  object\n",
            " 6   Day          20507 non-null  object\n",
            "dtypes: int64(1), object(6)\n",
            "memory usage: 1.8+ MB\n",
            "None\n"
          ]
        }
      ]
    },
    {
      "cell_type": "code",
      "source": [
        "# Year (ingat kembali penulisan function lambda)\n",
        "df['Year'] = df['Date'].apply(lambda x: x.split(\"-\")[0])\n",
        "# Month\n",
        "df['Month'] = df['Date'].apply(lambda x: x.split(\"-\")[1])\n",
        "# Day\n",
        "df['Day'] = df['Date'].apply(lambda x: x.split(\"-\")[2])"
      ],
      "metadata": {
        "id": "GF5cd5TMasVm"
      },
      "execution_count": 29,
      "outputs": []
    },
    {
      "cell_type": "code",
      "source": [
        "# cek kembali perubahan yang terjadi setelah nilai tahun, bulan dan hari ditampung di fitur baru (year, month, day)\n",
        "print(df.info())\n",
        "print(df.head())"
      ],
      "metadata": {
        "colab": {
          "base_uri": "https://localhost:8080/"
        },
        "id": "dJTsEJCEasS2",
        "outputId": "9bd24059-c77a-40a9-d706-df21a22b8ab7"
      },
      "execution_count": 30,
      "outputs": [
        {
          "output_type": "stream",
          "name": "stdout",
          "text": [
            "<class 'pandas.core.frame.DataFrame'>\n",
            "Int64Index: 20507 entries, 0 to 21292\n",
            "Data columns (total 7 columns):\n",
            " #   Column       Non-Null Count  Dtype \n",
            "---  ------       --------------  ----- \n",
            " 0   Date         20507 non-null  object\n",
            " 1   Time         20507 non-null  object\n",
            " 2   Transaction  20507 non-null  int64 \n",
            " 3   Item         20507 non-null  object\n",
            " 4   Year         20507 non-null  object\n",
            " 5   Month        20507 non-null  object\n",
            " 6   Day          20507 non-null  object\n",
            "dtypes: int64(1), object(6)\n",
            "memory usage: 1.8+ MB\n",
            "None\n",
            "         Date      Time  Transaction           Item  Year Month Day\n",
            "0  2016-10-30  09:58:11            1          Bread  2016    10  30\n",
            "1  2016-10-30  10:05:34            2   Scandinavian  2016    10  30\n",
            "2  2016-10-30  10:05:34            2   Scandinavian  2016    10  30\n",
            "3  2016-10-30  10:07:57            3  Hot chocolate  2016    10  30\n",
            "4  2016-10-30  10:07:57            3            Jam  2016    10  30\n"
          ]
        }
      ]
    },
    {
      "cell_type": "code",
      "source": [
        "# Mencetak 20 data penjualan item terbanyak\n",
        "most_sold = df['Item'].value_counts().head(10)\n",
        "\n",
        "print('Most Sold Items: \\n')\n",
        "print(most_sold)"
      ],
      "metadata": {
        "colab": {
          "base_uri": "https://localhost:8080/"
        },
        "id": "-uePwUu-asPm",
        "outputId": "58e5d708-695f-4113-8990-c4d347dfc98f"
      },
      "execution_count": 46,
      "outputs": [
        {
          "output_type": "stream",
          "name": "stdout",
          "text": [
            "Most Sold Items: \n",
            "\n",
            "Coffee           5471\n",
            "Bread            3325\n",
            "Tea              1435\n",
            "Cake             1025\n",
            "Pastry            856\n",
            "Sandwich          771\n",
            "Medialuna         616\n",
            "Hot chocolate     590\n",
            "Cookies           540\n",
            "Brownie           379\n",
            "Name: Item, dtype: int64\n"
          ]
        }
      ]
    },
    {
      "cell_type": "code",
      "source": [
        "#Menampilkan data Transaksi\n",
        "transaction_count = df.groupby(by='Item')[['Transaction']].count().sort_values(by='Transaction', ascending=False)\n",
        "def convert_to_percentage(x):\n",
        "    return 50 * x / float(x.sum())\n",
        "\n",
        "transaction_percentage = transaction_count.apply(convert_to_percentage)\n",
        "transaction_percentage.head()"
      ],
      "metadata": {
        "colab": {
          "base_uri": "https://localhost:8080/",
          "height": 237
        },
        "id": "SM5G3gbbv2jC",
        "outputId": "aadc22e7-a672-4ad3-a999-cbe0cec8e6a6"
      },
      "execution_count": 47,
      "outputs": [
        {
          "output_type": "execute_result",
          "data": {
            "text/plain": [
              "        Transaction\n",
              "Item               \n",
              "Coffee    13.339348\n",
              "Bread      8.106988\n",
              "Tea        3.498805\n",
              "Cake       2.499147\n",
              "Pastry     2.087092"
            ],
            "text/html": [
              "\n",
              "  <div id=\"df-ac1ba356-9ad7-4e03-8859-892db0cd1463\">\n",
              "    <div class=\"colab-df-container\">\n",
              "      <div>\n",
              "<style scoped>\n",
              "    .dataframe tbody tr th:only-of-type {\n",
              "        vertical-align: middle;\n",
              "    }\n",
              "\n",
              "    .dataframe tbody tr th {\n",
              "        vertical-align: top;\n",
              "    }\n",
              "\n",
              "    .dataframe thead th {\n",
              "        text-align: right;\n",
              "    }\n",
              "</style>\n",
              "<table border=\"1\" class=\"dataframe\">\n",
              "  <thead>\n",
              "    <tr style=\"text-align: right;\">\n",
              "      <th></th>\n",
              "      <th>Transaction</th>\n",
              "    </tr>\n",
              "    <tr>\n",
              "      <th>Item</th>\n",
              "      <th></th>\n",
              "    </tr>\n",
              "  </thead>\n",
              "  <tbody>\n",
              "    <tr>\n",
              "      <th>Coffee</th>\n",
              "      <td>13.339348</td>\n",
              "    </tr>\n",
              "    <tr>\n",
              "      <th>Bread</th>\n",
              "      <td>8.106988</td>\n",
              "    </tr>\n",
              "    <tr>\n",
              "      <th>Tea</th>\n",
              "      <td>3.498805</td>\n",
              "    </tr>\n",
              "    <tr>\n",
              "      <th>Cake</th>\n",
              "      <td>2.499147</td>\n",
              "    </tr>\n",
              "    <tr>\n",
              "      <th>Pastry</th>\n",
              "      <td>2.087092</td>\n",
              "    </tr>\n",
              "  </tbody>\n",
              "</table>\n",
              "</div>\n",
              "      <button class=\"colab-df-convert\" onclick=\"convertToInteractive('df-ac1ba356-9ad7-4e03-8859-892db0cd1463')\"\n",
              "              title=\"Convert this dataframe to an interactive table.\"\n",
              "              style=\"display:none;\">\n",
              "        \n",
              "  <svg xmlns=\"http://www.w3.org/2000/svg\" height=\"24px\"viewBox=\"0 0 24 24\"\n",
              "       width=\"24px\">\n",
              "    <path d=\"M0 0h24v24H0V0z\" fill=\"none\"/>\n",
              "    <path d=\"M18.56 5.44l.94 2.06.94-2.06 2.06-.94-2.06-.94-.94-2.06-.94 2.06-2.06.94zm-11 1L8.5 8.5l.94-2.06 2.06-.94-2.06-.94L8.5 2.5l-.94 2.06-2.06.94zm10 10l.94 2.06.94-2.06 2.06-.94-2.06-.94-.94-2.06-.94 2.06-2.06.94z\"/><path d=\"M17.41 7.96l-1.37-1.37c-.4-.4-.92-.59-1.43-.59-.52 0-1.04.2-1.43.59L10.3 9.45l-7.72 7.72c-.78.78-.78 2.05 0 2.83L4 21.41c.39.39.9.59 1.41.59.51 0 1.02-.2 1.41-.59l7.78-7.78 2.81-2.81c.8-.78.8-2.07 0-2.86zM5.41 20L4 18.59l7.72-7.72 1.47 1.35L5.41 20z\"/>\n",
              "  </svg>\n",
              "      </button>\n",
              "      \n",
              "  <style>\n",
              "    .colab-df-container {\n",
              "      display:flex;\n",
              "      flex-wrap:wrap;\n",
              "      gap: 12px;\n",
              "    }\n",
              "\n",
              "    .colab-df-convert {\n",
              "      background-color: #E8F0FE;\n",
              "      border: none;\n",
              "      border-radius: 50%;\n",
              "      cursor: pointer;\n",
              "      display: none;\n",
              "      fill: #1967D2;\n",
              "      height: 32px;\n",
              "      padding: 0 0 0 0;\n",
              "      width: 32px;\n",
              "    }\n",
              "\n",
              "    .colab-df-convert:hover {\n",
              "      background-color: #E2EBFA;\n",
              "      box-shadow: 0px 1px 2px rgba(60, 64, 67, 0.3), 0px 1px 3px 1px rgba(60, 64, 67, 0.15);\n",
              "      fill: #174EA6;\n",
              "    }\n",
              "\n",
              "    [theme=dark] .colab-df-convert {\n",
              "      background-color: #3B4455;\n",
              "      fill: #D2E3FC;\n",
              "    }\n",
              "\n",
              "    [theme=dark] .colab-df-convert:hover {\n",
              "      background-color: #434B5C;\n",
              "      box-shadow: 0px 1px 3px 1px rgba(0, 0, 0, 0.15);\n",
              "      filter: drop-shadow(0px 1px 2px rgba(0, 0, 0, 0.3));\n",
              "      fill: #FFFFFF;\n",
              "    }\n",
              "  </style>\n",
              "\n",
              "      <script>\n",
              "        const buttonEl =\n",
              "          document.querySelector('#df-ac1ba356-9ad7-4e03-8859-892db0cd1463 button.colab-df-convert');\n",
              "        buttonEl.style.display =\n",
              "          google.colab.kernel.accessAllowed ? 'block' : 'none';\n",
              "\n",
              "        async function convertToInteractive(key) {\n",
              "          const element = document.querySelector('#df-ac1ba356-9ad7-4e03-8859-892db0cd1463');\n",
              "          const dataTable =\n",
              "            await google.colab.kernel.invokeFunction('convertToInteractive',\n",
              "                                                     [key], {});\n",
              "          if (!dataTable) return;\n",
              "\n",
              "          const docLinkHtml = 'Like what you see? Visit the ' +\n",
              "            '<a target=\"_blank\" href=https://colab.research.google.com/notebooks/data_table.ipynb>data table notebook</a>'\n",
              "            + ' to learn more about interactive tables.';\n",
              "          element.innerHTML = '';\n",
              "          dataTable['output_type'] = 'display_data';\n",
              "          await google.colab.output.renderOutput(dataTable, element);\n",
              "          const docLink = document.createElement('div');\n",
              "          docLink.innerHTML = docLinkHtml;\n",
              "          element.appendChild(docLink);\n",
              "        }\n",
              "      </script>\n",
              "    </div>\n",
              "  </div>\n",
              "  "
            ]
          },
          "metadata": {},
          "execution_count": 47
        }
      ]
    },
    {
      "cell_type": "code",
      "source": [
        "# visualisasikan data penjualan item terbanyak ke line chart dan bar chart\n",
        "plt.figure(figsize=(26,6))\n",
        "\n",
        "plt.subplot(1,2,2)\n",
        "most_sold.plot(kind='bar')\n",
        "plt.title('Items Most Sold')"
      ],
      "metadata": {
        "colab": {
          "base_uri": "https://localhost:8080/",
          "height": 466
        },
        "id": "W_3hF2KaasMm",
        "outputId": "72d8ccfe-7f49-4b7e-b6a4-f341dae20f81"
      },
      "execution_count": 49,
      "outputs": [
        {
          "output_type": "execute_result",
          "data": {
            "text/plain": [
              "Text(0.5, 1.0, 'Items Most Sold')"
            ]
          },
          "metadata": {},
          "execution_count": 49
        },
        {
          "output_type": "display_data",
          "data": {
            "text/plain": [
              "<Figure size 1872x432 with 1 Axes>"
            ],
            "image/png": "[encoded data removed]"
          },
          "metadata": {
            "needs_background": "light"
          }
        }
      ]
    },
    {
      "cell_type": "code",
      "source": [
        "df.groupby('Month')['Transaction'].nunique().plot(kind='bar', title='Monthly Sales')\n",
        "plt.show()"
      ],
      "metadata": {
        "colab": {
          "base_uri": "https://localhost:8080/",
          "height": 298
        },
        "id": "3vTQomLFasJP",
        "outputId": "f617baa9-ea5c-4f3c-f6c3-380a43552b6b"
      },
      "execution_count": 50,
      "outputs": [
        {
          "output_type": "display_data",
          "data": {
            "text/plain": [
              "<Figure size 432x288 with 1 Axes>"
            ],
            "image/png": "[encoded data removed]"
          },
          "metadata": {
            "needs_background": "light"
          }
        }
      ]
    },
    {
      "cell_type": "code",
      "source": [
        "print(df.groupby('Month')['Day'].nunique())"
      ],
      "metadata": {
        "colab": {
          "base_uri": "https://localhost:8080/"
        },
        "id": "3KUVgjgDa96F",
        "outputId": "256d68a2-bf70-424e-b976-2646475ac995"
      },
      "execution_count": 51,
      "outputs": [
        {
          "output_type": "stream",
          "name": "stdout",
          "text": [
            "Month\n",
            "01    30\n",
            "02    28\n",
            "03    31\n",
            "04     9\n",
            "10     2\n",
            "11    30\n",
            "12    29\n",
            "Name: Day, dtype: int64\n"
          ]
        }
      ]
    },
    {
      "cell_type": "markdown",
      "source": [
        "**Market Data Analisis**"
      ],
      "metadata": {
        "id": "xs5WkHwUvA3i"
      }
    },
    {
      "cell_type": "code",
      "source": [
        "from mlxtend.preprocessing import TransactionEncoder\n",
        "from mlxtend.frequent_patterns import association_rules, apriori"
      ],
      "metadata": {
        "id": "L82xUMNIa93T"
      },
      "execution_count": 52,
      "outputs": []
    },
    {
      "cell_type": "code",
      "source": [
        "transaction_list = []\n",
        "\n",
        "# For loop to create a list of the unique transactions throughout the dataset:\n",
        "for i in df['Transaction'].unique():\n",
        "    tlist = list(set(df[df['Transaction']==i]['Item']))\n",
        "    if len(tlist)>0:\n",
        "        transaction_list.append(tlist)\n",
        "print(len(transaction_list))"
      ],
      "metadata": {
        "colab": {
          "base_uri": "https://localhost:8080/"
        },
        "id": "0v8X7l5Ma90i",
        "outputId": "deab8460-09ce-4c88-d2a2-dd50dae67bdb"
      },
      "execution_count": 76,
      "outputs": [
        {
          "output_type": "stream",
          "name": "stdout",
          "text": [
            "9465\n"
          ]
        }
      ]
    },
    {
      "cell_type": "code",
      "source": [
        "te = TransactionEncoder()\n",
        "te_ary = te.fit(transaction_list).transform(transaction_list)\n",
        "df2 = pd.DataFrame(te_ary, columns=te.columns_)"
      ],
      "metadata": {
        "id": "19tdfChHa9xm"
      },
      "execution_count": 77,
      "outputs": []
    },
    {
      "cell_type": "code",
      "source": [
        "frequent_itemsets = apriori(df2, min_support=0.01, use_colnames=True)\n",
        "rules = association_rules(frequent_itemsets, metric='lift', min_threshold=1.2)\n",
        "metrix = pd.DataFrame(rules)\n",
        "metrix[['antecedents','consequents', 'support', 'confidence', 'lift']].sort_values('lift', ascending=False)"
      ],
      "metadata": {
        "colab": {
          "base_uri": "https://localhost:8080/",
          "height": 551
        },
        "id": "Q8e9VpIIa9u6",
        "outputId": "a0ff38e1-fa24-492e-8ff2-50073abffe49"
      },
      "execution_count": 78,
      "outputs": [
        {
          "output_type": "execute_result",
          "data": {
            "text/plain": [
              "         antecedents       consequents   support  confidence      lift\n",
              "13     (Tea, Coffee)            (Cake)  0.010037    0.201271  1.937977\n",
              "14            (Cake)     (Tea, Coffee)  0.010037    0.096643  1.937977\n",
              "0             (Cake)   (Hot chocolate)  0.011410    0.109868  1.883874\n",
              "1    (Hot chocolate)            (Cake)  0.011410    0.195652  1.883874\n",
              "3              (Tea)            (Cake)  0.023772    0.166667  1.604781\n",
              "2             (Cake)             (Tea)  0.023772    0.228891  1.604781\n",
              "6            (Toast)          (Coffee)  0.023666    0.704403  1.472431\n",
              "7           (Coffee)           (Toast)  0.023666    0.049470  1.472431\n",
              "10   (Bread, Coffee)          (Pastry)  0.011199    0.124413  1.444872\n",
              "11          (Pastry)   (Bread, Coffee)  0.011199    0.130061  1.444872\n",
              "8         (Sandwich)             (Tea)  0.014369    0.200000  1.402222\n",
              "9              (Tea)        (Sandwich)  0.014369    0.100741  1.402222\n",
              "15             (Tea)    (Cake, Coffee)  0.010037    0.070370  1.285822\n",
              "12    (Cake, Coffee)             (Tea)  0.010037    0.183398  1.285822\n",
              "4   (Spanish Brunch)          (Coffee)  0.010882    0.598837  1.251766\n",
              "5           (Coffee)  (Spanish Brunch)  0.010882    0.022747  1.251766"
            ],
            "text/html": [
              "\n",
              "  <div id=\"df-1f0e725d-dc03-405d-bfbf-6f79fe61b3d1\">\n",
              "    <div class=\"colab-df-container\">\n",
              "      <div>\n",
              "<style scoped>\n",
              "    .dataframe tbody tr th:only-of-type {\n",
              "        vertical-align: middle;\n",
              "    }\n",
              "\n",
              "    .dataframe tbody tr th {\n",
              "        vertical-align: top;\n",
              "    }\n",
              "\n",
              "    .dataframe thead th {\n",
              "        text-align: right;\n",
              "    }\n",
              "</style>\n",
              "<table border=\"1\" class=\"dataframe\">\n",
              "  <thead>\n",
              "    <tr style=\"text-align: right;\">\n",
              "      <th></th>\n",
              "      <th>antecedents</th>\n",
              "      <th>consequents</th>\n",
              "      <th>support</th>\n",
              "      <th>confidence</th>\n",
              "      <th>lift</th>\n",
              "    </tr>\n",
              "  </thead>\n",
              "  <tbody>\n",
              "    <tr>\n",
              "      <th>13</th>\n",
              "      <td>(Tea, Coffee)</td>\n",
              "      <td>(Cake)</td>\n",
              "      <td>0.010037</td>\n",
              "      <td>0.201271</td>\n",
              "      <td>1.937977</td>\n",
              "    </tr>\n",
              "    <tr>\n",
              "      <th>14</th>\n",
              "      <td>(Cake)</td>\n",
              "      <td>(Tea, Coffee)</td>\n",
              "      <td>0.010037</td>\n",
              "      <td>0.096643</td>\n",
              "      <td>1.937977</td>\n",
              "    </tr>\n",
              "    <tr>\n",
              "      <th>0</th>\n",
              "      <td>(Cake)</td>\n",
              "      <td>(Hot chocolate)</td>\n",
              "      <td>0.011410</td>\n",
              "      <td>0.109868</td>\n",
              "      <td>1.883874</td>\n",
              "    </tr>\n",
              "    <tr>\n",
              "      <th>1</th>\n",
              "      <td>(Hot chocolate)</td>\n",
              "      <td>(Cake)</td>\n",
              "      <td>0.011410</td>\n",
              "      <td>0.195652</td>\n",
              "      <td>1.883874</td>\n",
              "    </tr>\n",
              "    <tr>\n",
              "      <th>3</th>\n",
              "      <td>(Tea)</td>\n",
              "      <td>(Cake)</td>\n",
              "      <td>0.023772</td>\n",
              "      <td>0.166667</td>\n",
              "      <td>1.604781</td>\n",
              "    </tr>\n",
              "    <tr>\n",
              "      <th>2</th>\n",
              "      <td>(Cake)</td>\n",
              "      <td>(Tea)</td>\n",
              "      <td>0.023772</td>\n",
              "      <td>0.228891</td>\n",
              "      <td>1.604781</td>\n",
              "    </tr>\n",
              "    <tr>\n",
              "      <th>6</th>\n",
              "      <td>(Toast)</td>\n",
              "      <td>(Coffee)</td>\n",
              "      <td>0.023666</td>\n",
              "      <td>0.704403</td>\n",
              "      <td>1.472431</td>\n",
              "    </tr>\n",
              "    <tr>\n",
              "      <th>7</th>\n",
              "      <td>(Coffee)</td>\n",
              "      <td>(Toast)</td>\n",
              "      <td>0.023666</td>\n",
              "      <td>0.049470</td>\n",
              "      <td>1.472431</td>\n",
              "    </tr>\n",
              "    <tr>\n",
              "      <th>10</th>\n",
              "      <td>(Bread, Coffee)</td>\n",
              "      <td>(Pastry)</td>\n",
              "      <td>0.011199</td>\n",
              "      <td>0.124413</td>\n",
              "      <td>1.444872</td>\n",
              "    </tr>\n",
              "    <tr>\n",
              "      <th>11</th>\n",
              "      <td>(Pastry)</td>\n",
              "      <td>(Bread, Coffee)</td>\n",
              "      <td>0.011199</td>\n",
              "      <td>0.130061</td>\n",
              "      <td>1.444872</td>\n",
              "    </tr>\n",
              "    <tr>\n",
              "      <th>8</th>\n",
              "      <td>(Sandwich)</td>\n",
              "      <td>(Tea)</td>\n",
              "      <td>0.014369</td>\n",
              "      <td>0.200000</td>\n",
              "      <td>1.402222</td>\n",
              "    </tr>\n",
              "    <tr>\n",
              "      <th>9</th>\n",
              "      <td>(Tea)</td>\n",
              "      <td>(Sandwich)</td>\n",
              "      <td>0.014369</td>\n",
              "      <td>0.100741</td>\n",
              "      <td>1.402222</td>\n",
              "    </tr>\n",
              "    <tr>\n",
              "      <th>15</th>\n",
              "      <td>(Tea)</td>\n",
              "      <td>(Cake, Coffee)</td>\n",
              "      <td>0.010037</td>\n",
              "      <td>0.070370</td>\n",
              "      <td>1.285822</td>\n",
              "    </tr>\n",
              "    <tr>\n",
              "      <th>12</th>\n",
              "      <td>(Cake, Coffee)</td>\n",
              "      <td>(Tea)</td>\n",
              "      <td>0.010037</td>\n",
              "      <td>0.183398</td>\n",
              "      <td>1.285822</td>\n",
              "    </tr>\n",
              "    <tr>\n",
              "      <th>4</th>\n",
              "      <td>(Spanish Brunch)</td>\n",
              "      <td>(Coffee)</td>\n",
              "      <td>0.010882</td>\n",
              "      <td>0.598837</td>\n",
              "      <td>1.251766</td>\n",
              "    </tr>\n",
              "    <tr>\n",
              "      <th>5</th>\n",
              "      <td>(Coffee)</td>\n",
              "      <td>(Spanish Brunch)</td>\n",
              "      <td>0.010882</td>\n",
              "      <td>0.022747</td>\n",
              "      <td>1.251766</td>\n",
              "    </tr>\n",
              "  </tbody>\n",
              "</table>\n",
              "</div>\n",
              "      <button class=\"colab-df-convert\" onclick=\"convertToInteractive('df-1f0e725d-dc03-405d-bfbf-6f79fe61b3d1')\"\n",
              "              title=\"Convert this dataframe to an interactive table.\"\n",
              "              style=\"display:none;\">\n",
              "        \n",
              "  <svg xmlns=\"http://www.w3.org/2000/svg\" height=\"24px\"viewBox=\"0 0 24 24\"\n",
              "       width=\"24px\">\n",
              "    <path d=\"M0 0h24v24H0V0z\" fill=\"none\"/>\n",
              "    <path d=\"M18.56 5.44l.94 2.06.94-2.06 2.06-.94-2.06-.94-.94-2.06-.94 2.06-2.06.94zm-11 1L8.5 8.5l.94-2.06 2.06-.94-2.06-.94L8.5 2.5l-.94 2.06-2.06.94zm10 10l.94 2.06.94-2.06 2.06-.94-2.06-.94-.94-2.06-.94 2.06-2.06.94z\"/><path d=\"M17.41 7.96l-1.37-1.37c-.4-.4-.92-.59-1.43-.59-.52 0-1.04.2-1.43.59L10.3 9.45l-7.72 7.72c-.78.78-.78 2.05 0 2.83L4 21.41c.39.39.9.59 1.41.59.51 0 1.02-.2 1.41-.59l7.78-7.78 2.81-2.81c.8-.78.8-2.07 0-2.86zM5.41 20L4 18.59l7.72-7.72 1.47 1.35L5.41 20z\"/>\n",
              "  </svg>\n",
              "      </button>\n",
              "      \n",
              "  <style>\n",
              "    .colab-df-container {\n",
              "      display:flex;\n",
              "      flex-wrap:wrap;\n",
              "      gap: 12px;\n",
              "    }\n",
              "\n",
              "    .colab-df-convert {\n",
              "      background-color: #E8F0FE;\n",
              "      border: none;\n",
              "      border-radius: 50%;\n",
              "      cursor: pointer;\n",
              "      display: none;\n",
              "      fill: #1967D2;\n",
              "      height: 32px;\n",
              "      padding: 0 0 0 0;\n",
              "      width: 32px;\n",
              "    }\n",
              "\n",
              "    .colab-df-convert:hover {\n",
              "      background-color: #E2EBFA;\n",
              "      box-shadow: 0px 1px 2px rgba(60, 64, 67, 0.3), 0px 1px 3px 1px rgba(60, 64, 67, 0.15);\n",
              "      fill: #174EA6;\n",
              "    }\n",
              "\n",
              "    [theme=dark] .colab-df-convert {\n",
              "      background-color: #3B4455;\n",
              "      fill: #D2E3FC;\n",
              "    }\n",
              "\n",
              "    [theme=dark] .colab-df-convert:hover {\n",
              "      background-color: #434B5C;\n",
              "      box-shadow: 0px 1px 3px 1px rgba(0, 0, 0, 0.15);\n",
              "      filter: drop-shadow(0px 1px 2px rgba(0, 0, 0, 0.3));\n",
              "      fill: #FFFFFF;\n",
              "    }\n",
              "  </style>\n",
              "\n",
              "      <script>\n",
              "        const buttonEl =\n",
              "          document.querySelector('#df-1f0e725d-dc03-405d-bfbf-6f79fe61b3d1 button.colab-df-convert');\n",
              "        buttonEl.style.display =\n",
              "          google.colab.kernel.accessAllowed ? 'block' : 'none';\n",
              "\n",
              "        async function convertToInteractive(key) {\n",
              "          const element = document.querySelector('#df-1f0e725d-dc03-405d-bfbf-6f79fe61b3d1');\n",
              "          const dataTable =\n",
              "            await google.colab.kernel.invokeFunction('convertToInteractive',\n",
              "                                                     [key], {});\n",
              "          if (!dataTable) return;\n",
              "\n",
              "          const docLinkHtml = 'Like what you see? Visit the ' +\n",
              "            '<a target=\"_blank\" href=https://colab.research.google.com/notebooks/data_table.ipynb>data table notebook</a>'\n",
              "            + ' to learn more about interactive tables.';\n",
              "          element.innerHTML = '';\n",
              "          dataTable['output_type'] = 'display_data';\n",
              "          await google.colab.output.renderOutput(dataTable, element);\n",
              "          const docLink = document.createElement('div');\n",
              "          docLink.innerHTML = docLinkHtml;\n",
              "          element.appendChild(docLink);\n",
              "        }\n",
              "      </script>\n",
              "    </div>\n",
              "  </div>\n",
              "  "
            ]
          },
          "metadata": {},
          "execution_count": 78
        }
      ]
    },
    {
      "cell_type": "code",
      "source": [
        "frequent_itemsets = apriori(df2, min_support=0.01, use_colnames=True)\n",
        "rules = association_rules(frequent_itemsets, metric='confidence', min_threshold=0.3)\n",
        "metrix = pd.DataFrame(rules)\n",
        "metrix[['antecedents','consequents', 'support', 'confidence', 'lift']].sort_values('lift', ascending=False)"
      ],
      "metadata": {
        "colab": {
          "base_uri": "https://localhost:8080/",
          "height": 645
        },
        "id": "C9o1zorVo9mt",
        "outputId": "84a096d6-b2b6-45cc-a128-3edaa1c4b1d8"
      },
      "execution_count": 72,
      "outputs": [
        {
          "output_type": "execute_result",
          "data": {
            "text/plain": [
              "         antecedents consequents   support  confidence      lift\n",
              "15           (Toast)    (Coffee)  0.023666    0.704403  1.472431\n",
              "13  (Spanish Brunch)    (Coffee)  0.010882    0.598837  1.251766\n",
              "7        (Medialuna)    (Coffee)  0.035182    0.569231  1.189878\n",
              "9           (Pastry)    (Coffee)  0.047544    0.552147  1.154168\n",
              "0        (Alfajores)    (Coffee)  0.019651    0.540698  1.130235\n",
              "6            (Juice)    (Coffee)  0.020602    0.534247  1.116750\n",
              "10        (Sandwich)    (Coffee)  0.038246    0.532353  1.112792\n",
              "3             (Cake)    (Coffee)  0.054728    0.526958  1.101515\n",
              "11           (Scone)    (Coffee)  0.018067    0.522936  1.093107\n",
              "4          (Cookies)    (Coffee)  0.028209    0.518447  1.083723\n",
              "5    (Hot chocolate)    (Coffee)  0.029583    0.507246  1.060311\n",
              "1           (Pastry)     (Bread)  0.029160    0.338650  1.034977\n",
              "2          (Brownie)    (Coffee)  0.019651    0.490765  1.025860\n",
              "8           (Muffin)    (Coffee)  0.018806    0.489011  1.022193\n",
              "12            (Soup)    (Coffee)  0.015848    0.460123  0.961807\n",
              "16     (Cake, Bread)    (Coffee)  0.010037    0.429864  0.898557\n",
              "18       (Cake, Tea)    (Coffee)  0.010037    0.422222  0.882582\n",
              "17   (Pastry, Bread)    (Coffee)  0.011199    0.384058  0.802807\n",
              "14             (Tea)    (Coffee)  0.049868    0.349630  0.730840"
            ],
            "text/html": [
              "\n",
              "  <div id=\"df-2eb2758a-5480-4cee-ab2e-2c8b0f5fceb6\">\n",
              "    <div class=\"colab-df-container\">\n",
              "      <div>\n",
              "<style scoped>\n",
              "    .dataframe tbody tr th:only-of-type {\n",
              "        vertical-align: middle;\n",
              "    }\n",
              "\n",
              "    .dataframe tbody tr th {\n",
              "        vertical-align: top;\n",
              "    }\n",
              "\n",
              "    .dataframe thead th {\n",
              "        text-align: right;\n",
              "    }\n",
              "</style>\n",
              "<table border=\"1\" class=\"dataframe\">\n",
              "  <thead>\n",
              "    <tr style=\"text-align: right;\">\n",
              "      <th></th>\n",
              "      <th>antecedents</th>\n",
              "      <th>consequents</th>\n",
              "      <th>support</th>\n",
              "      <th>confidence</th>\n",
              "      <th>lift</th>\n",
              "    </tr>\n",
              "  </thead>\n",
              "  <tbody>\n",
              "    <tr>\n",
              "      <th>15</th>\n",
              "      <td>(Toast)</td>\n",
              "      <td>(Coffee)</td>\n",
              "      <td>0.023666</td>\n",
              "      <td>0.704403</td>\n",
              "      <td>1.472431</td>\n",
              "    </tr>\n",
              "    <tr>\n",
              "      <th>13</th>\n",
              "      <td>(Spanish Brunch)</td>\n",
              "      <td>(Coffee)</td>\n",
              "      <td>0.010882</td>\n",
              "      <td>0.598837</td>\n",
              "      <td>1.251766</td>\n",
              "    </tr>\n",
              "    <tr>\n",
              "      <th>7</th>\n",
              "      <td>(Medialuna)</td>\n",
              "      <td>(Coffee)</td>\n",
              "      <td>0.035182</td>\n",
              "      <td>0.569231</td>\n",
              "      <td>1.189878</td>\n",
              "    </tr>\n",
              "    <tr>\n",
              "      <th>9</th>\n",
              "      <td>(Pastry)</td>\n",
              "      <td>(Coffee)</td>\n",
              "      <td>0.047544</td>\n",
              "      <td>0.552147</td>\n",
              "      <td>1.154168</td>\n",
              "    </tr>\n",
              "    <tr>\n",
              "      <th>0</th>\n",
              "      <td>(Alfajores)</td>\n",
              "      <td>(Coffee)</td>\n",
              "      <td>0.019651</td>\n",
              "      <td>0.540698</td>\n",
              "      <td>1.130235</td>\n",
              "    </tr>\n",
              "    <tr>\n",
              "      <th>6</th>\n",
              "      <td>(Juice)</td>\n",
              "      <td>(Coffee)</td>\n",
              "      <td>0.020602</td>\n",
              "      <td>0.534247</td>\n",
              "      <td>1.116750</td>\n",
              "    </tr>\n",
              "    <tr>\n",
              "      <th>10</th>\n",
              "      <td>(Sandwich)</td>\n",
              "      <td>(Coffee)</td>\n",
              "      <td>0.038246</td>\n",
              "      <td>0.532353</td>\n",
              "      <td>1.112792</td>\n",
              "    </tr>\n",
              "    <tr>\n",
              "      <th>3</th>\n",
              "      <td>(Cake)</td>\n",
              "      <td>(Coffee)</td>\n",
              "      <td>0.054728</td>\n",
              "      <td>0.526958</td>\n",
              "      <td>1.101515</td>\n",
              "    </tr>\n",
              "    <tr>\n",
              "      <th>11</th>\n",
              "      <td>(Scone)</td>\n",
              "      <td>(Coffee)</td>\n",
              "      <td>0.018067</td>\n",
              "      <td>0.522936</td>\n",
              "      <td>1.093107</td>\n",
              "    </tr>\n",
              "    <tr>\n",
              "      <th>4</th>\n",
              "      <td>(Cookies)</td>\n",
              "      <td>(Coffee)</td>\n",
              "      <td>0.028209</td>\n",
              "      <td>0.518447</td>\n",
              "      <td>1.083723</td>\n",
              "    </tr>\n",
              "    <tr>\n",
              "      <th>5</th>\n",
              "      <td>(Hot chocolate)</td>\n",
              "      <td>(Coffee)</td>\n",
              "      <td>0.029583</td>\n",
              "      <td>0.507246</td>\n",
              "      <td>1.060311</td>\n",
              "    </tr>\n",
              "    <tr>\n",
              "      <th>1</th>\n",
              "      <td>(Pastry)</td>\n",
              "      <td>(Bread)</td>\n",
              "      <td>0.029160</td>\n",
              "      <td>0.338650</td>\n",
              "      <td>1.034977</td>\n",
              "    </tr>\n",
              "    <tr>\n",
              "      <th>2</th>\n",
              "      <td>(Brownie)</td>\n",
              "      <td>(Coffee)</td>\n",
              "      <td>0.019651</td>\n",
              "      <td>0.490765</td>\n",
              "      <td>1.025860</td>\n",
              "    </tr>\n",
              "    <tr>\n",
              "      <th>8</th>\n",
              "      <td>(Muffin)</td>\n",
              "      <td>(Coffee)</td>\n",
              "      <td>0.018806</td>\n",
              "      <td>0.489011</td>\n",
              "      <td>1.022193</td>\n",
              "    </tr>\n",
              "    <tr>\n",
              "      <th>12</th>\n",
              "      <td>(Soup)</td>\n",
              "      <td>(Coffee)</td>\n",
              "      <td>0.015848</td>\n",
              "      <td>0.460123</td>\n",
              "      <td>0.961807</td>\n",
              "    </tr>\n",
              "    <tr>\n",
              "      <th>16</th>\n",
              "      <td>(Cake, Bread)</td>\n",
              "      <td>(Coffee)</td>\n",
              "      <td>0.010037</td>\n",
              "      <td>0.429864</td>\n",
              "      <td>0.898557</td>\n",
              "    </tr>\n",
              "    <tr>\n",
              "      <th>18</th>\n",
              "      <td>(Cake, Tea)</td>\n",
              "      <td>(Coffee)</td>\n",
              "      <td>0.010037</td>\n",
              "      <td>0.422222</td>\n",
              "      <td>0.882582</td>\n",
              "    </tr>\n",
              "    <tr>\n",
              "      <th>17</th>\n",
              "      <td>(Pastry, Bread)</td>\n",
              "      <td>(Coffee)</td>\n",
              "      <td>0.011199</td>\n",
              "      <td>0.384058</td>\n",
              "      <td>0.802807</td>\n",
              "    </tr>\n",
              "    <tr>\n",
              "      <th>14</th>\n",
              "      <td>(Tea)</td>\n",
              "      <td>(Coffee)</td>\n",
              "      <td>0.049868</td>\n",
              "      <td>0.349630</td>\n",
              "      <td>0.730840</td>\n",
              "    </tr>\n",
              "  </tbody>\n",
              "</table>\n",
              "</div>\n",
              "      <button class=\"colab-df-convert\" onclick=\"convertToInteractive('df-2eb2758a-5480-4cee-ab2e-2c8b0f5fceb6')\"\n",
              "              title=\"Convert this dataframe to an interactive table.\"\n",
              "              style=\"display:none;\">\n",
              "        \n",
              "  <svg xmlns=\"http://www.w3.org/2000/svg\" height=\"24px\"viewBox=\"0 0 24 24\"\n",
              "       width=\"24px\">\n",
              "    <path d=\"M0 0h24v24H0V0z\" fill=\"none\"/>\n",
              "    <path d=\"M18.56 5.44l.94 2.06.94-2.06 2.06-.94-2.06-.94-.94-2.06-.94 2.06-2.06.94zm-11 1L8.5 8.5l.94-2.06 2.06-.94-2.06-.94L8.5 2.5l-.94 2.06-2.06.94zm10 10l.94 2.06.94-2.06 2.06-.94-2.06-.94-.94-2.06-.94 2.06-2.06.94z\"/><path d=\"M17.41 7.96l-1.37-1.37c-.4-.4-.92-.59-1.43-.59-.52 0-1.04.2-1.43.59L10.3 9.45l-7.72 7.72c-.78.78-.78 2.05 0 2.83L4 21.41c.39.39.9.59 1.41.59.51 0 1.02-.2 1.41-.59l7.78-7.78 2.81-2.81c.8-.78.8-2.07 0-2.86zM5.41 20L4 18.59l7.72-7.72 1.47 1.35L5.41 20z\"/>\n",
              "  </svg>\n",
              "      </button>\n",
              "      \n",
              "  <style>\n",
              "    .colab-df-container {\n",
              "      display:flex;\n",
              "      flex-wrap:wrap;\n",
              "      gap: 12px;\n",
              "    }\n",
              "\n",
              "    .colab-df-convert {\n",
              "      background-color: #E8F0FE;\n",
              "      border: none;\n",
              "      border-radius: 50%;\n",
              "      cursor: pointer;\n",
              "      display: none;\n",
              "      fill: #1967D2;\n",
              "      height: 32px;\n",
              "      padding: 0 0 0 0;\n",
              "      width: 32px;\n",
              "    }\n",
              "\n",
              "    .colab-df-convert:hover {\n",
              "      background-color: #E2EBFA;\n",
              "      box-shadow: 0px 1px 2px rgba(60, 64, 67, 0.3), 0px 1px 3px 1px rgba(60, 64, 67, 0.15);\n",
              "      fill: #174EA6;\n",
              "    }\n",
              "\n",
              "    [theme=dark] .colab-df-convert {\n",
              "      background-color: #3B4455;\n",
              "      fill: #D2E3FC;\n",
              "    }\n",
              "\n",
              "    [theme=dark] .colab-df-convert:hover {\n",
              "      background-color: #434B5C;\n",
              "      box-shadow: 0px 1px 3px 1px rgba(0, 0, 0, 0.15);\n",
              "      filter: drop-shadow(0px 1px 2px rgba(0, 0, 0, 0.3));\n",
              "      fill: #FFFFFF;\n",
              "    }\n",
              "  </style>\n",
              "\n",
              "      <script>\n",
              "        const buttonEl =\n",
              "          document.querySelector('#df-2eb2758a-5480-4cee-ab2e-2c8b0f5fceb6 button.colab-df-convert');\n",
              "        buttonEl.style.display =\n",
              "          google.colab.kernel.accessAllowed ? 'block' : 'none';\n",
              "\n",
              "        async function convertToInteractive(key) {\n",
              "          const element = document.querySelector('#df-2eb2758a-5480-4cee-ab2e-2c8b0f5fceb6');\n",
              "          const dataTable =\n",
              "            await google.colab.kernel.invokeFunction('convertToInteractive',\n",
              "                                                     [key], {});\n",
              "          if (!dataTable) return;\n",
              "\n",
              "          const docLinkHtml = 'Like what you see? Visit the ' +\n",
              "            '<a target=\"_blank\" href=https://colab.research.google.com/notebooks/data_table.ipynb>data table notebook</a>'\n",
              "            + ' to learn more about interactive tables.';\n",
              "          element.innerHTML = '';\n",
              "          dataTable['output_type'] = 'display_data';\n",
              "          await google.colab.output.renderOutput(dataTable, element);\n",
              "          const docLink = document.createElement('div');\n",
              "          docLink.innerHTML = docLinkHtml;\n",
              "          element.appendChild(docLink);\n",
              "        }\n",
              "      </script>\n",
              "    </div>\n",
              "  </div>\n",
              "  "
            ]
          },
          "metadata": {},
          "execution_count": 72
        }
      ]
    },
    {
      "cell_type": "markdown",
      "source": [
        "# **Kesimpulan**\n",
        "\n",
        "-Menggunakan 20 data yang akan di pakai\n",
        "-Menggunakan 10 data item penjualan terbanyak\n",
        "-Modifikasi pada return menjadi 50\n",
        "-Visualisasi data menggunakan barchart dengan 10 data dan perubahan size \n",
        "-Modifikasi metric(lift) min-support=0.01 & min-threshold=1.2 sehingga menghasilkan 15 data transaksi\n",
        "-Modifikasi metric(confidence) min-support=0.01 & min-threshold=0.3 sehingga menghasilkan 18 data transaksi\n",
        "\n",
        "Kesimpulan :\n",
        "Orang yang membeli cake dan coffee sebesar 5% dari total transaksi data. \n",
        "Sehingga orang yang membeli cake sudah pasti membeli coffee sebesar 52%\n",
        "sedangakan orang yang membeli coffee belum tentu membeli cake."
      ],
      "metadata": {
        "id": "fbgS4hYzzLAA"
      }
    }
  ]
}